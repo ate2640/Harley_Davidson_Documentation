{
 "cells": [
  {
   "cell_type": "markdown",
   "id": "1fdb4e7c",
   "metadata": {},
   "source": [
    "The unadulterated version of this dataset was in XLSX format. In order for the Jupyter Notebook to open and thereby giving me access to the dataset, I converted it to a CSV. I then imported pandas to open the dataset."
   ]
  },
  {
   "cell_type": "code",
   "execution_count": 2,
   "id": "5de9f786",
   "metadata": {},
   "outputs": [],
   "source": [
    "import pandas as pd\n",
    "Harley_Dataset = pd.read_csv('HarleyDavidsonSalesData.csv')"
   ]
  },
  {
   "cell_type": "markdown",
   "id": "28d849d2",
   "metadata": {},
   "source": [
    "I then used the .head() to get a glimpse of this dataset:"
   ]
  },
  {
   "cell_type": "code",
   "execution_count": 3,
   "id": "b33aa385",
   "metadata": {},
   "outputs": [
    {
     "data": {
      "text/html": [
       "<div>\n",
       "<style scoped>\n",
       "    .dataframe tbody tr th:only-of-type {\n",
       "        vertical-align: middle;\n",
       "    }\n",
       "\n",
       "    .dataframe tbody tr th {\n",
       "        vertical-align: top;\n",
       "    }\n",
       "\n",
       "    .dataframe thead th {\n",
       "        text-align: right;\n",
       "    }\n",
       "</style>\n",
       "<table border=\"1\" class=\"dataframe\">\n",
       "  <thead>\n",
       "    <tr style=\"text-align: right;\">\n",
       "      <th></th>\n",
       "      <th>Order Number</th>\n",
       "      <th>Product Name</th>\n",
       "      <th>Quantity</th>\n",
       "      <th>Price</th>\n",
       "      <th>Payment Mode</th>\n",
       "      <th>Store Name</th>\n",
       "      <th>City</th>\n",
       "      <th>Country</th>\n",
       "      <th>Year</th>\n",
       "      <th>Month</th>\n",
       "      <th>Order Date</th>\n",
       "    </tr>\n",
       "  </thead>\n",
       "  <tbody>\n",
       "    <tr>\n",
       "      <th>0</th>\n",
       "      <td>101071</td>\n",
       "      <td>Harley-Davidson Street 750</td>\n",
       "      <td>30</td>\n",
       "      <td>7000</td>\n",
       "      <td>NetBanking</td>\n",
       "      <td>RIDGES HARLEY-DAVIDSON</td>\n",
       "      <td>NYC</td>\n",
       "      <td>USA</td>\n",
       "      <td>2001</td>\n",
       "      <td>2</td>\n",
       "      <td>24-Feb-2001</td>\n",
       "    </tr>\n",
       "    <tr>\n",
       "      <th>1</th>\n",
       "      <td>101072</td>\n",
       "      <td>Harley-Davidson Street 750</td>\n",
       "      <td>34</td>\n",
       "      <td>7000</td>\n",
       "      <td>Cash</td>\n",
       "      <td>SEVEN ISLANDS HARLEY-DAVIDSON</td>\n",
       "      <td>Reims</td>\n",
       "      <td>France</td>\n",
       "      <td>2001</td>\n",
       "      <td>5</td>\n",
       "      <td>7-May-2001</td>\n",
       "    </tr>\n",
       "    <tr>\n",
       "      <th>2</th>\n",
       "      <td>101073</td>\n",
       "      <td>Harley-Davidson Street 750</td>\n",
       "      <td>41</td>\n",
       "      <td>7000</td>\n",
       "      <td>Credit card</td>\n",
       "      <td>BANJARA HARLEY-DAVIDSON</td>\n",
       "      <td>Paris</td>\n",
       "      <td>France</td>\n",
       "      <td>2001</td>\n",
       "      <td>7</td>\n",
       "      <td>1-Jul-2001</td>\n",
       "    </tr>\n",
       "    <tr>\n",
       "      <th>3</th>\n",
       "      <td>101074</td>\n",
       "      <td>Harley-Davidson Street 750</td>\n",
       "      <td>45</td>\n",
       "      <td>7000</td>\n",
       "      <td>NetBanking</td>\n",
       "      <td>TUSKER HARLEY-DAVIDSON LAVELLE ROAD</td>\n",
       "      <td>Pasadena</td>\n",
       "      <td>USA</td>\n",
       "      <td>2001</td>\n",
       "      <td>8</td>\n",
       "      <td>25-Aug-2001</td>\n",
       "    </tr>\n",
       "    <tr>\n",
       "      <th>4</th>\n",
       "      <td>101075</td>\n",
       "      <td>Harley-Davidson Street 750</td>\n",
       "      <td>49</td>\n",
       "      <td>7000</td>\n",
       "      <td>NetBanking</td>\n",
       "      <td>CAPITAL HARLEY-DAVIDSON</td>\n",
       "      <td>San Francisco</td>\n",
       "      <td>USA</td>\n",
       "      <td>2001</td>\n",
       "      <td>10</td>\n",
       "      <td>10-Oct-2001</td>\n",
       "    </tr>\n",
       "  </tbody>\n",
       "</table>\n",
       "</div>"
      ],
      "text/plain": [
       "   Order Number                Product Name  Quantity  Price Payment Mode  \\\n",
       "0        101071  Harley-Davidson Street 750        30   7000   NetBanking   \n",
       "1        101072  Harley-Davidson Street 750        34   7000         Cash   \n",
       "2        101073  Harley-Davidson Street 750        41   7000  Credit card   \n",
       "3        101074  Harley-Davidson Street 750        45   7000   NetBanking   \n",
       "4        101075  Harley-Davidson Street 750        49   7000   NetBanking   \n",
       "\n",
       "                            Store Name           City Country  Year  Month  \\\n",
       "0               RIDGES HARLEY-DAVIDSON            NYC     USA  2001      2   \n",
       "1        SEVEN ISLANDS HARLEY-DAVIDSON          Reims  France  2001      5   \n",
       "2              BANJARA HARLEY-DAVIDSON          Paris  France  2001      7   \n",
       "3  TUSKER HARLEY-DAVIDSON LAVELLE ROAD       Pasadena     USA  2001      8   \n",
       "4              CAPITAL HARLEY-DAVIDSON  San Francisco     USA  2001     10   \n",
       "\n",
       "    Order Date  \n",
       "0  24-Feb-2001  \n",
       "1   7-May-2001  \n",
       "2   1-Jul-2001  \n",
       "3  25-Aug-2001  \n",
       "4  10-Oct-2001  "
      ]
     },
     "execution_count": 3,
     "metadata": {},
     "output_type": "execute_result"
    }
   ],
   "source": [
    "Harley_Dataset.head()"
   ]
  },
  {
   "cell_type": "markdown",
   "id": "8474b003",
   "metadata": {},
   "source": [
    "It looks good so far. Let's use the .info() to view details of the columns from this dataset:"
   ]
  },
  {
   "cell_type": "code",
   "execution_count": 4,
   "id": "4236f734",
   "metadata": {},
   "outputs": [
    {
     "name": "stdout",
     "output_type": "stream",
     "text": [
      "<class 'pandas.core.frame.DataFrame'>\n",
      "RangeIndex: 2823 entries, 0 to 2822\n",
      "Data columns (total 11 columns):\n",
      " #   Column        Non-Null Count  Dtype \n",
      "---  ------        --------------  ----- \n",
      " 0   Order Number  2823 non-null   int64 \n",
      " 1   Product Name  2823 non-null   object\n",
      " 2   Quantity      2823 non-null   int64 \n",
      " 3   Price         2823 non-null   int64 \n",
      " 4   Payment Mode  2823 non-null   object\n",
      " 5   Store Name    2823 non-null   object\n",
      " 6   City          2823 non-null   object\n",
      " 7   Country       2823 non-null   object\n",
      " 8   Year          2823 non-null   int64 \n",
      " 9   Month         2823 non-null   int64 \n",
      " 10  Order Date    2823 non-null   object\n",
      "dtypes: int64(5), object(6)\n",
      "memory usage: 242.7+ KB\n"
     ]
    }
   ],
   "source": [
    "Harley_Dataset.info()"
   ]
  },
  {
   "cell_type": "markdown",
   "id": "2fefc910",
   "metadata": {},
   "source": [
    "The dataset contains 2,823 rows, 11 columns and 3 datatypes. I will now check for any null values:"
   ]
  },
  {
   "cell_type": "code",
   "execution_count": 5,
   "id": "e807319b",
   "metadata": {},
   "outputs": [
    {
     "data": {
      "text/html": [
       "<div>\n",
       "<style scoped>\n",
       "    .dataframe tbody tr th:only-of-type {\n",
       "        vertical-align: middle;\n",
       "    }\n",
       "\n",
       "    .dataframe tbody tr th {\n",
       "        vertical-align: top;\n",
       "    }\n",
       "\n",
       "    .dataframe thead th {\n",
       "        text-align: right;\n",
       "    }\n",
       "</style>\n",
       "<table border=\"1\" class=\"dataframe\">\n",
       "  <thead>\n",
       "    <tr style=\"text-align: right;\">\n",
       "      <th></th>\n",
       "    </tr>\n",
       "  </thead>\n",
       "  <tbody>\n",
       "    <tr>\n",
       "      <th>0</th>\n",
       "    </tr>\n",
       "    <tr>\n",
       "      <th>1</th>\n",
       "    </tr>\n",
       "    <tr>\n",
       "      <th>2</th>\n",
       "    </tr>\n",
       "    <tr>\n",
       "      <th>3</th>\n",
       "    </tr>\n",
       "    <tr>\n",
       "      <th>4</th>\n",
       "    </tr>\n",
       "    <tr>\n",
       "      <th>...</th>\n",
       "    </tr>\n",
       "    <tr>\n",
       "      <th>2818</th>\n",
       "    </tr>\n",
       "    <tr>\n",
       "      <th>2819</th>\n",
       "    </tr>\n",
       "    <tr>\n",
       "      <th>2820</th>\n",
       "    </tr>\n",
       "    <tr>\n",
       "      <th>2821</th>\n",
       "    </tr>\n",
       "    <tr>\n",
       "      <th>2822</th>\n",
       "    </tr>\n",
       "  </tbody>\n",
       "</table>\n",
       "<p>2823 rows × 0 columns</p>\n",
       "</div>"
      ],
      "text/plain": [
       "Empty DataFrame\n",
       "Columns: []\n",
       "Index: [0, 1, 2, 3, 4, 5, 6, 7, 8, 9, 10, 11, 12, 13, 14, 15, 16, 17, 18, 19, 20, 21, 22, 23, 24, 25, 26, 27, 28, 29, 30, 31, 32, 33, 34, 35, 36, 37, 38, 39, 40, 41, 42, 43, 44, 45, 46, 47, 48, 49, 50, 51, 52, 53, 54, 55, 56, 57, 58, 59, 60, 61, 62, 63, 64, 65, 66, 67, 68, 69, 70, 71, 72, 73, 74, 75, 76, 77, 78, 79, 80, 81, 82, 83, 84, 85, 86, 87, 88, 89, 90, 91, 92, 93, 94, 95, 96, 97, 98, 99, ...]\n",
       "\n",
       "[2823 rows x 0 columns]"
      ]
     },
     "execution_count": 5,
     "metadata": {},
     "output_type": "execute_result"
    }
   ],
   "source": [
    "Harley_Dataset[Harley_Dataset.columns[Harley_Dataset.isnull().any()]]"
   ]
  },
  {
   "cell_type": "markdown",
   "id": "8ba73f1f",
   "metadata": {},
   "source": [
    "There are no columns containing null values. Great! I will now run one more inspection, just to be sure:"
   ]
  },
  {
   "cell_type": "code",
   "execution_count": 6,
   "id": "15a0ce6d",
   "metadata": {},
   "outputs": [
    {
     "data": {
      "text/plain": [
       "0"
      ]
     },
     "execution_count": 6,
     "metadata": {},
     "output_type": "execute_result"
    }
   ],
   "source": [
    "Harley_Dataset.isna().any().sum()"
   ]
  },
  {
   "cell_type": "markdown",
   "id": "98d06b44",
   "metadata": {},
   "source": [
    "Phenomenal! As there are no null values in this dataset. I will now define the columns as a reference throughout the project:"
   ]
  },
  {
   "cell_type": "markdown",
   "id": "b7bbca7e",
   "metadata": {},
   "source": [
    "0 Order Number: The order number of the product\n",
    "\n",
    "1 Product Name: The name of Harley Davidson motorcycle\n",
    "\n",
    "2 Quantity: The number of motorcycles included per order\n",
    "\n",
    "3 Price: In US dollars, the cost per motorcycle\n",
    "\n",
    "4 Payment: The method of payment\n",
    "\n",
    "5 Store Name: The name of the store which receives the order\n",
    "\n",
    "6 City: Name of the city of the store receiving the order\n",
    "\n",
    "7 Country: Name of the country that receives the order\n",
    "\n",
    "8 Year: Year in which the order took place\n",
    "\n",
    "9 Month: Month in which the order took place\n",
    "\n",
    "10 Order Date: The date on which the order took place, written as DD-MM-YYYY"
   ]
  },
  {
   "cell_type": "markdown",
   "id": "3d0df00a",
   "metadata": {},
   "source": [
    "Thus far, every column seems to provide valuable insight into the potential findings of this project. As such, I will keep every column for the time being. The dataset is now ready for the EDA portion of this project."
   ]
  },
  {
   "cell_type": "code",
   "execution_count": 7,
   "id": "ef2ca17a",
   "metadata": {},
   "outputs": [],
   "source": [
    "Harley_Dataset.to_csv('Harley_Dataset.csv', index = False)"
   ]
  },
  {
   "cell_type": "code",
   "execution_count": 8,
   "id": "3edc0fc7",
   "metadata": {},
   "outputs": [
    {
     "data": {
      "text/plain": [
       "array(['NYC', 'Reims', 'Paris', 'Pasadena', 'San Francisco', 'Burlingame',\n",
       "       'Lille', 'Bergen', 'Melbourne', 'Newark', 'Bridgewater', 'Nantes',\n",
       "       'Cambridge', 'Helsinki', 'Stavern', 'Allentown', 'Salzburg',\n",
       "       'Chatswood', 'New Bedford', 'Liverpool', 'Madrid', 'Lule',\n",
       "       'Singapore', 'South Brisbane', 'Philadelphia', 'Lyon', 'Vancouver',\n",
       "       'Burbank', 'New Haven', 'Minato-ku', 'Torino', 'Boras',\n",
       "       'Versailles', 'San Rafael', 'Nashua', 'Brickhaven', 'North Sydney',\n",
       "       'Montreal', 'Osaka', 'White Plains', 'Kobenhavn', 'London',\n",
       "       'Toulouse', 'Barcelona', 'Los Angeles', 'San Diego', 'Bruxelles',\n",
       "       'Tsawassen', 'Boston', 'Cowes', 'Oulu', 'San Jose', 'Graz',\n",
       "       'Makati City', 'Marseille', 'Koln', 'Gensve', 'Reggio Emilia',\n",
       "       'Frankfurt', 'Espoo', 'Dublin', 'Manchester', 'Aaarhus',\n",
       "       'Glendale', 'Sevilla', 'Brisbane', 'Strasbourg', 'Las Vegas',\n",
       "       'Oslo', 'Bergamo', 'Glen Waverly', 'Munich', 'Charleroi'],\n",
       "      dtype=object)"
      ]
     },
     "execution_count": 8,
     "metadata": {},
     "output_type": "execute_result"
    }
   ],
   "source": [
    "Harley_Dataset['City'].unique()"
   ]
  },
  {
   "cell_type": "code",
   "execution_count": 9,
   "id": "e4f04d4b",
   "metadata": {},
   "outputs": [
    {
     "data": {
      "text/plain": [
       "array(['USA', 'France', 'Norway', 'Australia', 'Finland', 'Austria', 'UK',\n",
       "       'Spain', 'Sweden', 'Singapore', 'Canada', 'Japan', 'Italy',\n",
       "       'Denmark', 'Belgium', 'Philippines', 'Germany', 'Switzerland',\n",
       "       'Ireland'], dtype=object)"
      ]
     },
     "execution_count": 9,
     "metadata": {},
     "output_type": "execute_result"
    }
   ],
   "source": [
    "Harley_Dataset['Country'].unique()"
   ]
  },
  {
   "cell_type": "code",
   "execution_count": null,
   "id": "34015579",
   "metadata": {},
   "outputs": [],
   "source": []
  }
 ],
 "metadata": {
  "kernelspec": {
   "display_name": "Python 3",
   "language": "python",
   "name": "python3"
  },
  "language_info": {
   "codemirror_mode": {
    "name": "ipython",
    "version": 3
   },
   "file_extension": ".py",
   "mimetype": "text/x-python",
   "name": "python",
   "nbconvert_exporter": "python",
   "pygments_lexer": "ipython3",
   "version": "3.8.8"
  }
 },
 "nbformat": 4,
 "nbformat_minor": 5
}
